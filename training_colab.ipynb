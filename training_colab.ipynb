{
  "nbformat": 4,
  "nbformat_minor": 0,
  "metadata": {
    "colab": {
      "provenance": [],
      "gpuType": "T4"
    },
    "kernelspec": {
      "name": "python3",
      "display_name": "Python 3"
    },
    "language_info": {
      "name": "python"
    },
    "accelerator": "GPU"
  },
  "cells": [
    {
      "cell_type": "code",
      "execution_count": 1,
      "metadata": {
        "colab": {
          "base_uri": "https://localhost:8080/"
        },
        "id": "Y2HAEedo_Dm2",
        "outputId": "d6681943-9079-43d3-a2a5-7fd80df3c3dd"
      },
      "outputs": [
        {
          "output_type": "stream",
          "name": "stderr",
          "text": [
            "--2024-09-07 08:43:15--  https://www.7-zip.org/a/7z2301-linux-x64.tar.xz\n",
            "Resolving www.7-zip.org (www.7-zip.org)... 49.12.202.237\n",
            "Connecting to www.7-zip.org (www.7-zip.org)|49.12.202.237|:443... connected.\n",
            "HTTP request sent, awaiting response... 200 OK\n",
            "Length: 1527700 (1.5M) [application/octet-stream]\n",
            "Saving to: ‘7z2301-linux-x64.tar.xz’\n",
            "\n",
            "     0K .......... .......... .......... .......... ..........  3%  251K 6s\n",
            "    50K .......... .......... .......... .......... ..........  6%  497K 4s\n",
            "   100K .......... .......... .......... .......... .......... 10%  504K 4s\n",
            "   150K .......... .......... .......... .......... .......... 13% 46.7M 3s\n",
            "   200K .......... .......... .......... .......... .......... 16% 62.5M 2s\n",
            "   250K .......... .......... .......... .......... .......... 20%  505K 2s\n",
            "   300K .......... .......... .......... .......... .......... 23% 30.4M 2s\n",
            "   350K .......... .......... .......... .......... .......... 26% 46.9M 1s\n",
            "   400K .......... .......... .......... .......... .......... 30%  143M 1s\n",
            "   450K .......... .......... .......... .......... .......... 33%  224M 1s\n",
            "   500K .......... .......... .......... .......... .......... 36%  523K 1s\n",
            "   550K .......... .......... .......... .......... .......... 40% 9.77M 1s\n",
            "   600K .......... .......... .......... .......... .......... 43%  225M 1s\n",
            "   650K .......... .......... .......... .......... .......... 46%  228M 1s\n",
            "   700K .......... .......... .......... .......... .......... 50%  243M 1s\n",
            "   750K .......... .......... .......... .......... .......... 53%  190M 1s\n",
            "   800K .......... .......... .......... .......... .......... 56%  240M 0s\n",
            "   850K .......... .......... .......... .......... .......... 60%  218M 0s\n",
            "   900K .......... .......... .......... .......... .......... 63%  271M 0s\n",
            "   950K .......... .......... .......... .......... .......... 67%  229M 0s\n",
            "  1000K .......... .......... .......... .......... .......... 70%  250M 0s\n",
            "  1050K .......... .......... .......... .......... .......... 73%  536K 0s\n",
            "  1100K .......... .......... .......... .......... .......... 77% 64.1M 0s\n",
            "  1150K .......... .......... .......... .......... .......... 80% 51.1M 0s\n",
            "  1200K .......... .......... .......... .......... .......... 83% 92.8M 0s\n",
            "  1250K .......... .......... .......... .......... .......... 87%  139M 0s\n",
            "  1300K .......... .......... .......... .......... .......... 90%  102M 0s\n",
            "  1350K .......... .......... .......... .......... .......... 93%  185M 0s\n",
            "  1400K .......... .......... .......... .......... .......... 97%  224M 0s\n",
            "  1450K .......... .......... .......... .......... .         100%  239M=0.7s\n",
            "\n",
            "2024-09-07 08:43:17 (2.07 MB/s) - ‘7z2301-linux-x64.tar.xz’ saved [1527700/1527700]\n",
            "\n"
          ]
        }
      ],
      "source": [
        "%%bash\n",
        "# install 7z library\n",
        "wget https://www.7-zip.org/a/7z2301-linux-x64.tar.xz\n",
        "tar -xf /content/7z2301-linux-x64.tar.xz"
      ]
    },
    {
      "cell_type": "code",
      "source": [
        "!/content/7zz x \"/content/ocr_project.7z\""
      ],
      "metadata": {
        "colab": {
          "base_uri": "https://localhost:8080/"
        },
        "id": "tSsQbUjO_WGB",
        "outputId": "f02f5fc3-eef2-403b-f5b7-f9e8b956aba7"
      },
      "execution_count": 2,
      "outputs": [
        {
          "output_type": "stream",
          "name": "stdout",
          "text": [
            "\n",
            "7-Zip (z) 23.01 (x64) : Copyright (c) 1999-2023 Igor Pavlov : 2023-06-20\n",
            " 64-bit locale=en_US.UTF-8 Threads:2 OPEN_MAX:1048576, ASM\n",
            "\n",
            "Scanning the drive for archives:\n",
            "  0M Scan /content/\b\b\b\b\b\b\b\b\b\b\b\b\b\b\b\b\b\b\b                   \b\b\b\b\b\b\b\b\b\b\b\b\b\b\b\b\b\b\b1 file, 5595 bytes (6 KiB)\n",
            "\n",
            "Extracting archive: /content/ocr_project.7z\n",
            "--\n",
            "Path = /content/ocr_project.7z\n",
            "Type = 7z\n",
            "Physical Size = 5595\n",
            "Headers Size = 375\n",
            "Method = LZMA2:24k\n",
            "Solid = +\n",
            "Blocks = 1\n",
            "\n",
            "  0%\b\b\b\b    \b\b\b\bEverything is Ok\n",
            "\n",
            "Folders: 2\n",
            "Files: 9\n",
            "Size:       21003\n",
            "Compressed: 5595\n"
          ]
        }
      ]
    },
    {
      "cell_type": "code",
      "source": [
        "!pip install torchmetrics"
      ],
      "metadata": {
        "colab": {
          "base_uri": "https://localhost:8080/"
        },
        "id": "4NhYLfKR_t30",
        "outputId": "aaa83aa3-f105-45ac-f094-65b6a7de599a"
      },
      "execution_count": 3,
      "outputs": [
        {
          "output_type": "stream",
          "name": "stdout",
          "text": [
            "Collecting torchmetrics\n",
            "  Downloading torchmetrics-1.4.1-py3-none-any.whl.metadata (20 kB)\n",
            "Requirement already satisfied: numpy>1.20.0 in /usr/local/lib/python3.10/dist-packages (from torchmetrics) (1.26.4)\n",
            "Requirement already satisfied: packaging>17.1 in /usr/local/lib/python3.10/dist-packages (from torchmetrics) (24.1)\n",
            "Requirement already satisfied: torch>=1.10.0 in /usr/local/lib/python3.10/dist-packages (from torchmetrics) (2.4.0+cu121)\n",
            "Collecting lightning-utilities>=0.8.0 (from torchmetrics)\n",
            "  Downloading lightning_utilities-0.11.7-py3-none-any.whl.metadata (5.2 kB)\n",
            "Requirement already satisfied: setuptools in /usr/local/lib/python3.10/dist-packages (from lightning-utilities>=0.8.0->torchmetrics) (71.0.4)\n",
            "Requirement already satisfied: typing-extensions in /usr/local/lib/python3.10/dist-packages (from lightning-utilities>=0.8.0->torchmetrics) (4.12.2)\n",
            "Requirement already satisfied: filelock in /usr/local/lib/python3.10/dist-packages (from torch>=1.10.0->torchmetrics) (3.15.4)\n",
            "Requirement already satisfied: sympy in /usr/local/lib/python3.10/dist-packages (from torch>=1.10.0->torchmetrics) (1.13.2)\n",
            "Requirement already satisfied: networkx in /usr/local/lib/python3.10/dist-packages (from torch>=1.10.0->torchmetrics) (3.3)\n",
            "Requirement already satisfied: jinja2 in /usr/local/lib/python3.10/dist-packages (from torch>=1.10.0->torchmetrics) (3.1.4)\n",
            "Requirement already satisfied: fsspec in /usr/local/lib/python3.10/dist-packages (from torch>=1.10.0->torchmetrics) (2024.6.1)\n",
            "Requirement already satisfied: MarkupSafe>=2.0 in /usr/local/lib/python3.10/dist-packages (from jinja2->torch>=1.10.0->torchmetrics) (2.1.5)\n",
            "Requirement already satisfied: mpmath<1.4,>=1.1.0 in /usr/local/lib/python3.10/dist-packages (from sympy->torch>=1.10.0->torchmetrics) (1.3.0)\n",
            "Downloading torchmetrics-1.4.1-py3-none-any.whl (866 kB)\n",
            "\u001b[2K   \u001b[90m━━━━━━━━━━━━━━━━━━━━━━━━━━━━━━━━━━━━━━━━\u001b[0m \u001b[32m866.2/866.2 kB\u001b[0m \u001b[31m10.9 MB/s\u001b[0m eta \u001b[36m0:00:00\u001b[0m\n",
            "\u001b[?25hDownloading lightning_utilities-0.11.7-py3-none-any.whl (26 kB)\n",
            "Installing collected packages: lightning-utilities, torchmetrics\n",
            "Successfully installed lightning-utilities-0.11.7 torchmetrics-1.4.1\n"
          ]
        }
      ]
    },
    {
      "cell_type": "code",
      "source": [
        "!python -m ocr_project.download_data --file_id 1-EOxY6zUkc3GEN_TzhaqjGXy_wPns-GB"
      ],
      "metadata": {
        "colab": {
          "base_uri": "https://localhost:8080/"
        },
        "id": "pGr8YtQJ_cDv",
        "outputId": "c9b2caa7-31e2-4283-d671-d036407fee98"
      },
      "execution_count": 4,
      "outputs": [
        {
          "output_type": "stream",
          "name": "stdout",
          "text": [
            "Downloading...\n",
            "From (original): https://drive.google.com/uc?id=1-EOxY6zUkc3GEN_TzhaqjGXy_wPns-GB\n",
            "From (redirected): https://drive.google.com/uc?id=1-EOxY6zUkc3GEN_TzhaqjGXy_wPns-GB&confirm=t&uuid=5f7fd3e8-c112-4887-b391-ff59c2caa15b\n",
            "To: /content/dataset.zip\n",
            "100% 1.18G/1.18G [00:16<00:00, 70.0MB/s]\n",
            "Successfully downloaded dataset to ./data\n"
          ]
        }
      ]
    },
    {
      "cell_type": "code",
      "source": [
        "!python -m ocr_project.process_data \\\n",
        "        --annotation_file /content/data/words_new.txt \\\n",
        "        --root_dir /content/data/iam_words \\\n",
        "        --processed_data_path /content/data/processed_data"
      ],
      "metadata": {
        "colab": {
          "base_uri": "https://localhost:8080/"
        },
        "id": "AjoZeZhOYl_0",
        "outputId": "804016c1-ae13-4d0e-affe-00ba36330889"
      },
      "execution_count": 5,
      "outputs": [
        {
          "output_type": "stream",
          "name": "stdout",
          "text": [
            "Warning: image has some problems and will be skipped cannot identify image file '/content/data/iam_words/words/r06/r06-022/r06-022-03-05.png'\n",
            "Warning: image has some problems and will be skipped cannot identify image file '/content/data/iam_words/words/a01/a01-117/a01-117-05-02.png'\n",
            "Successfully processed dataset and saved to /content/data/processed_data\n",
            "Successfully processed annotations and saved tokens.json to /content/data/processed_data\n"
          ]
        }
      ]
    },
    {
      "cell_type": "code",
      "source": [
        "!mkdir cps"
      ],
      "metadata": {
        "id": "4W5rt3Euv_19"
      },
      "execution_count": null,
      "outputs": []
    },
    {
      "cell_type": "code",
      "source": [
        "!python -m ocr_project.train \\\n",
        "        --root_dir /content/data/processed_data/words \\\n",
        "        --annotation_file /content/data/processed_data/annotations.txt \\\n",
        "        --token_file /content/data/processed_data/tokens.json \\\n",
        "        --checkpoints_dir /content/cps"
      ],
      "metadata": {
        "colab": {
          "base_uri": "https://localhost:8080/"
        },
        "id": "7SM7nU9PBV91",
        "outputId": "77dce331-a1bb-4fee-f2d9-3d41285f2a12"
      },
      "execution_count": 10,
      "outputs": [
        {
          "output_type": "stream",
          "name": "stdout",
          "text": [
            "[INFO] Running on device: cuda\n",
            "[INFO] Loading data\n",
            "[INFO] Creating the model\n",
            "/content/ocr_project/train.py:111: FutureWarning: You are using `torch.load` with `weights_only=False` (the current default value), which uses the default pickle module implicitly. It is possible to construct malicious pickle data which will execute arbitrary code during unpickling (See https://github.com/pytorch/pytorch/blob/main/SECURITY.md#untrusted-models for more details). In a future release, the default value for `weights_only` will be flipped to `True`. This limits the functions that could be executed during unpickling. Arbitrary objects will no longer be allowed to be loaded via this mode unless they are explicitly allowlisted by the user via `torch.serialization.add_safe_globals`. We recommend you start setting `weights_only=True` for any use case where you don't have full control of the loaded file. Please open an issue on GitHub for any issues related to this experimental feature.\n",
            "  checkpoint_data = torch.load(checkpoint_path)\n",
            "[INFO] Successfully loaded checkpoint: /content/cps/cp_4\n",
            "[INFO] Start training\n",
            "Epoch [5/49]:\n",
            "Train_Batches: 100% 2/2 [00:01<00:00,  1.51it/s]\n",
            "Train_Loss: 12.2681, Train_CER: 100.00%, Train_Accuracy: 0.00%\n",
            "Test_Loss: 11.4994, Test_CER: 100.00%, Test_Accuracy: 0.00%\n",
            "Epoch [6/49]:\n",
            "Train_Batches: 100% 2/2 [00:00<00:00,  2.52it/s]\n",
            "Train_Loss: 10.2514, Train_CER: 100.00%, Train_Accuracy: 0.00%\n",
            "Test_Loss: 9.1503, Test_CER: 100.00%, Test_Accuracy: 0.00%\n",
            "Epoch [7/49]:\n",
            "Train_Batches: 100% 2/2 [00:00<00:00,  2.45it/s]\n",
            "Train_Loss: 7.7242, Train_CER: 100.00%, Train_Accuracy: 0.00%\n",
            "Test_Loss: 6.9152, Test_CER: 100.00%, Test_Accuracy: 0.00%\n",
            "Epoch [8/49]:\n",
            "Train_Batches:  50% 1/2 [00:00<00:00,  1.20it/s]\n",
            "Traceback (most recent call last):\n",
            "  File \"/usr/lib/python3.10/runpy.py\", line 196, in _run_module_as_main\n",
            "    return _run_code(code, main_globals, None,\n",
            "  File \"/usr/lib/python3.10/runpy.py\", line 86, in _run_code\n",
            "    exec(code, run_globals)\n",
            "  File \"/content/ocr_project/train.py\", line 180, in <module>\n",
            "    main(args)\n",
            "  File \"/content/ocr_project/train.py\", line 152, in main\n",
            "    Train(model, train_dataloader, ctc_loss, optimizer, device)\n",
            "  File \"/content/ocr_project/train.py\", line 36, in Train\n",
            "    total_loss += loss.item()\n",
            "KeyboardInterrupt\n"
          ]
        }
      ]
    }
  ]
}